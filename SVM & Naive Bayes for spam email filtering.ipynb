{
 "cells": [
  {
   "cell_type": "markdown",
   "id": "ff6b60a5",
   "metadata": {},
   "source": [
    "Importing libraries"
   ]
  },
  {
   "cell_type": "code",
   "execution_count": 1,
   "id": "bfb5fdd2",
   "metadata": {},
   "outputs": [],
   "source": [
    "import pandas as pd\n",
    "import numpy as np\n",
    "from sklearn.naive_bayes import MultinomialNB\n",
    "from sklearn.svm import SVC\n",
    "from sklearn.feature_extraction.text import CountVectorizer"
   ]
  },
  {
   "cell_type": "markdown",
   "id": "7c1e0ebb",
   "metadata": {},
   "source": [
    "Reading the datasets"
   ]
  },
  {
   "cell_type": "code",
   "execution_count": 2,
   "id": "6622f2e4",
   "metadata": {},
   "outputs": [],
   "source": [
    "df = pd.read_excel(\"spam_train2.xlsx\")\n",
    "df_test= pd.read_excel(\"spam_test.xlsx\")"
   ]
  },
  {
   "cell_type": "markdown",
   "id": "d6048a8c",
   "metadata": {},
   "source": [
    "data cleaning"
   ]
  },
  {
   "cell_type": "code",
   "execution_count": 3,
   "id": "472e6622",
   "metadata": {},
   "outputs": [],
   "source": [
    "df['spam'] = df['output'].apply(lambda x: 1 if x =='spam' else 0 )\n",
    "df_test['spam'] = df_test['output'].apply(lambda x:1 if x=='spam' else 0 )"
   ]
  },
  {
   "cell_type": "code",
   "execution_count": 30,
   "id": "55c77360",
   "metadata": {},
   "outputs": [
    {
     "name": "stderr",
     "output_type": "stream",
     "text": [
      "[nltk_data] Downloading package stopwords to\n",
      "[nltk_data]     C:\\Users\\mkali\\AppData\\Roaming\\nltk_data...\n",
      "[nltk_data]   Package stopwords is already up-to-date!\n"
     ]
    },
    {
     "data": {
      "text/plain": [
       "True"
      ]
     },
     "execution_count": 30,
     "metadata": {},
     "output_type": "execute_result"
    }
   ],
   "source": [
    "import nltk\n",
    "# download the stopwords package\n",
    "nltk.download(\"stopwords\")"
   ]
  },
  {
   "cell_type": "code",
   "execution_count": 31,
   "id": "c716cc49",
   "metadata": {},
   "outputs": [],
   "source": [
    "from nltk.corpus import stopwords\n",
    "import string"
   ]
  },
  {
   "cell_type": "code",
   "execution_count": 32,
   "id": "7d5d2739",
   "metadata": {},
   "outputs": [],
   "source": [
    "def clean(text):\n",
    "    nopunc = [char for char in text if char not in string.punctuation]\n",
    "    nopunc = ''.join(nopunc)\n",
    "\n",
    "    clean = [word for word in nopunc.split() if word.lower() not in stopwords.words('english')]\n",
    "    return clean"
   ]
  },
  {
   "cell_type": "markdown",
   "id": "818bdbf2",
   "metadata": {},
   "source": [
    "Training with Naive Bayes"
   ]
  },
  {
   "cell_type": "code",
   "execution_count": 33,
   "id": "73f7199a",
   "metadata": {},
   "outputs": [],
   "source": [
    "x_train = df['text']\n",
    "y_train = df['spam']"
   ]
  },
  {
   "cell_type": "code",
   "execution_count": 34,
   "id": "47d012db",
   "metadata": {},
   "outputs": [],
   "source": [
    "x_train = x_train.values.tolist()\n",
    "x_train = [str (item) for item in x_train]"
   ]
  },
  {
   "cell_type": "code",
   "execution_count": 35,
   "id": "6b902259",
   "metadata": {},
   "outputs": [],
   "source": [
    "cv = CountVectorizer()\n",
    "x_train_new = cv.fit_transform(x_train)"
   ]
  },
  {
   "cell_type": "code",
   "execution_count": 36,
   "id": "b714dc34",
   "metadata": {},
   "outputs": [
    {
     "data": {
      "text/plain": [
       "MultinomialNB(alpha=1)"
      ]
     },
     "execution_count": 36,
     "metadata": {},
     "output_type": "execute_result"
    }
   ],
   "source": [
    "model = MultinomialNB(alpha=1)\n",
    "model.fit(x_train_new,y_train)"
   ]
  },
  {
   "cell_type": "markdown",
   "id": "a1240441",
   "metadata": {},
   "source": [
    "Testing the model"
   ]
  },
  {
   "cell_type": "code",
   "execution_count": 37,
   "id": "dfbae6aa",
   "metadata": {},
   "outputs": [],
   "source": [
    "x_test = df_test['text']\n",
    "y_test = df_test['spam']"
   ]
  },
  {
   "cell_type": "code",
   "execution_count": 38,
   "id": "d5cb82d2",
   "metadata": {},
   "outputs": [
    {
     "name": "stdout",
     "output_type": "stream",
     "text": [
      "score:0.991039\n"
     ]
    }
   ],
   "source": [
    "x_test = x_test.values.tolist()\n",
    "x_test_new = cv.transform(x_test)\n",
    "predictions = model.predict(x_test_new)\n",
    "score = model.score(x_test_new,y_test)\n",
    "print('score:{:5f}'.format(score))\n",
    "#print(predictions)"
   ]
  },
  {
   "cell_type": "markdown",
   "id": "faab99e7",
   "metadata": {},
   "source": [
    "Training & Testing with SVM"
   ]
  },
  {
   "cell_type": "code",
   "execution_count": 39,
   "id": "11bed911",
   "metadata": {},
   "outputs": [
    {
     "data": {
      "text/plain": [
       "SVC(C=0.8)"
      ]
     },
     "execution_count": 39,
     "metadata": {},
     "output_type": "execute_result"
    }
   ],
   "source": [
    "model = SVC(C=0.8,kernel = 'rbf') #radius 0.8 \n",
    "model.fit(x_train_new,y_train)"
   ]
  },
  {
   "cell_type": "code",
   "execution_count": 40,
   "id": "fb8bff86",
   "metadata": {},
   "outputs": [
    {
     "name": "stdout",
     "output_type": "stream",
     "text": [
      "0.9802867383512545\n"
     ]
    }
   ],
   "source": [
    "score = model.score(x_test_new,y_test)\n",
    "predictions = model.predict(x_test_new)\n",
    "print(score)"
   ]
  },
  {
   "cell_type": "code",
   "execution_count": null,
   "id": "00cec652",
   "metadata": {},
   "outputs": [],
   "source": []
  },
  {
   "cell_type": "code",
   "execution_count": null,
   "id": "f8d976fe",
   "metadata": {},
   "outputs": [],
   "source": []
  }
 ],
 "metadata": {
  "kernelspec": {
   "display_name": "Python 3 (ipykernel)",
   "language": "python",
   "name": "python3"
  },
  "language_info": {
   "codemirror_mode": {
    "name": "ipython",
    "version": 3
   },
   "file_extension": ".py",
   "mimetype": "text/x-python",
   "name": "python",
   "nbconvert_exporter": "python",
   "pygments_lexer": "ipython3",
   "version": "3.9.7"
  }
 },
 "nbformat": 4,
 "nbformat_minor": 5
}
